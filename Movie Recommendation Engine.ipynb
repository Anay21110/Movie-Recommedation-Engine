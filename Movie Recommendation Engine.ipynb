{
 "cells": [
  {
   "cell_type": "code",
   "execution_count": 11,
   "metadata": {},
   "outputs": [],
   "source": [
    "import pandas as pd\n",
    "import numpy as np\n",
    "from sklearn.feature_extraction.text import CountVectorizer\n",
    "from sklearn.metrics.pairwise import cosine_similarity\n"
   ]
  },
  {
   "cell_type": "code",
   "execution_count": 12,
   "metadata": {},
   "outputs": [],
   "source": [
    "def get_title_from_index(index):\n",
    "    return df[df.index == index][\"title\"].values[0]\n",
    "\n",
    "def get_index_from_title(title):\n",
    "    return df[df.title == title][\"index\"].values[0]\n",
    "\n",
    "    \n",
    "    "
   ]
  },
  {
   "cell_type": "code",
   "execution_count": 18,
   "metadata": {},
   "outputs": [
    {
     "data": {
      "text/plain": [
       "Index(['index', 'budget', 'genres', 'homepage', 'id', 'keywords',\n",
       "       'original_language', 'original_title', 'overview', 'popularity',\n",
       "       'production_companies', 'production_countries', 'release_date',\n",
       "       'revenue', 'runtime', 'spoken_languages', 'status', 'tagline', 'title',\n",
       "       'vote_average', 'vote_count', 'cast', 'crew', 'director'],\n",
       "      dtype='object')"
      ]
     },
     "execution_count": 18,
     "metadata": {},
     "output_type": "execute_result"
    }
   ],
   "source": [
    "#Read CSV file\n",
    "df = pd.read_csv(\"movie_dataset.csv\")\n",
    "df.columns"
   ]
  },
  {
   "cell_type": "code",
   "execution_count": 25,
   "metadata": {},
   "outputs": [],
   "source": [
    "#Select features\n",
    "features = ['keywords','cast','genres','director']\n",
    "\n",
    "for feature in features:\n",
    "    df[feature] = df[features].fillna(' ') "
   ]
  },
  {
   "cell_type": "code",
   "execution_count": 28,
   "metadata": {},
   "outputs": [
    {
     "name": "stdout",
     "output_type": "stream",
     "text": [
      "0    culture clash future space war space colony so...\n",
      "1    ocean drug abuse exotic island east india trad...\n",
      "2    spy based on novel secret agent sequel mi6 spy...\n",
      "3    dc comics crime fighter terrorist secret ident...\n",
      "4    based on novel mars medallion space travel pri...\n",
      "Name: combined_features, dtype: object\n"
     ]
    }
   ],
   "source": [
    "#Create a column in DF which combines all selected features\n",
    "\n",
    "def combine_features(row):\n",
    "    \n",
    "        return row['keywords'] +\" \"+row['cast'] +\" \"+row['genres'] +\" \"+row['director'] \n",
    "  \n",
    "df[\"combined_features\"] = df.apply(combine_features,axis=1)\n",
    "print(df[\"combined_features\"].head())"
   ]
  },
  {
   "cell_type": "code",
   "execution_count": 36,
   "metadata": {},
   "outputs": [],
   "source": [
    "#Create count matrix from the new combined column\n",
    "\n",
    "cv = CountVectorizer()\n",
    "count_matrix = cv.fit_transform(df[\"combined_features\"])"
   ]
  },
  {
   "cell_type": "code",
   "execution_count": 37,
   "metadata": {},
   "outputs": [],
   "source": [
    "#Compute the cosine similarity based on count matrix\n",
    "cosine_sim = cosine_similarity(count_matrix)\n",
    "movie_user_like = \"Avatar\""
   ]
  },
  {
   "cell_type": "code",
   "execution_count": 38,
   "metadata": {},
   "outputs": [],
   "source": [
    "#Get index of this movie from the title\n",
    "movie_index = get_index_from_title(movie_user_like)\n",
    "\n",
    "similar_movies = list(enumerate(cosine_sim[movie_index]))\n",
    "\n",
    "\n",
    "#Get the list of all similar movies\n",
    "sorted_similar_movies = sorted(similar_movies,key = lambda x:x[1], reverse = True )"
   ]
  },
  {
   "cell_type": "code",
   "execution_count": 56,
   "metadata": {},
   "outputs": [
    {
     "name": "stdout",
     "output_type": "stream",
     "text": [
      "Avatar\n",
      "Space Dogs\n",
      "Gravity\n",
      "Jason X\n",
      "Cargo\n",
      "Space Chimps\n",
      "Star Wars: Clone Wars: Volume 1\n",
      "Guardians of the Galaxy\n",
      "Planet of the Apes\n",
      "Alien\n",
      "In the Shadow of the Moon\n",
      "Silent Running\n",
      "The Astronaut's Wife\n",
      "Moonraker\n",
      "Trekkies\n",
      "Wing Commander\n",
      "Pocahontas\n",
      "Lockout\n",
      "The Ice Pirates\n",
      "The Right Stuff\n",
      "Star Trek Into Darkness\n",
      "Star Trek Beyond\n",
      "Elysium\n",
      "Oblivion\n",
      "Titan A.E.\n",
      "Space Cowboys\n",
      "Brother\n",
      "Saving Private Ryan\n",
      "Lost in Space\n",
      "Event Horizon\n",
      "Alien³\n",
      "Spaceballs\n",
      "Subway\n",
      "Unbroken\n",
      "Jupiter Ascending\n",
      "Star Trek\n",
      "Starship Troopers\n",
      "Mission to Mars\n",
      "Deep Impact\n",
      "Soldier\n",
      "Sphere\n",
      "Star Trek: Insurrection\n",
      "Zathura: A Space Adventure\n",
      "Chicken Little\n",
      "Galaxy Quest\n",
      "The Thing\n",
      "Lifeforce\n",
      "The Empire Strikes Back\n",
      "Aliens\n",
      "Invaders from Mars\n",
      "Crocodile Dundee\n"
     ]
    }
   ],
   "source": [
    "#Print titles of  first 50 movies\n",
    "i = 0\n",
    "for movie in sorted_similar_movies:\n",
    "    print(get_title_from_index(movie[0]))\n",
    "    i = i + 1\n",
    "    if i > 50 :\n",
    "        break\n",
    "      \n",
    "    "
   ]
  },
  {
   "cell_type": "code",
   "execution_count": null,
   "metadata": {},
   "outputs": [],
   "source": []
  },
  {
   "cell_type": "code",
   "execution_count": null,
   "metadata": {},
   "outputs": [],
   "source": []
  }
 ],
 "metadata": {
  "kernelspec": {
   "display_name": "Python 3",
   "language": "python",
   "name": "python3"
  },
  "language_info": {
   "codemirror_mode": {
    "name": "ipython",
    "version": 3
   },
   "file_extension": ".py",
   "mimetype": "text/x-python",
   "name": "python",
   "nbconvert_exporter": "python",
   "pygments_lexer": "ipython3",
   "version": "3.7.6"
  }
 },
 "nbformat": 4,
 "nbformat_minor": 4
}
